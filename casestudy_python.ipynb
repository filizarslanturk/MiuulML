{
 "cells": [
  {
   "cell_type": "code",
   "execution_count": 8,
   "metadata": {},
   "outputs": [
    {
     "data": {
      "text/plain": [
       "[['THE',\n",
       "  'GOAL',\n",
       "  'IS',\n",
       "  'TO',\n",
       "  'TURN',\n",
       "  'DATA',\n",
       "  'INTO',\n",
       "  'INFORMATION',\n",
       "  'AND',\n",
       "  'INFORMATION',\n",
       "  'INTO',\n",
       "  'INSIGHT']]"
      ]
     },
     "execution_count": 8,
     "metadata": {},
     "output_type": "execute_result"
    }
   ],
   "source": [
    "text=\"The goal is to turn data into information, and information into insight.\"\n",
    "liste1=[]\n",
    "liste1.append(text.replace(\",\",\" \").replace(\".\",\" \").upper().split())\n",
    "liste1"
   ]
  },
  {
   "cell_type": "code",
   "execution_count": 18,
   "metadata": {},
   "outputs": [
    {
     "name": "stdout",
     "output_type": "stream",
     "text": [
      "11\n",
      "D E\n",
      "['D', 'A', 'T', 'A']\n",
      "['D', 'A', 'T', 'A', 'S', 'C', 'I', 'E', 'C', 'E']\n",
      "['D', 'A', 'T', 'A', 'S', 'C', 'I', 'E', 'C', 'E', 'F']\n",
      "['D', 'A', 'T', 'A', 'S', 'C', 'I', 'E', 'N', 'C', 'E', 'F']\n"
     ]
    }
   ],
   "source": [
    "lst=[\"D\",\"A\",\"T\",\"A\",\"S\",\"C\",\"I\",\"E\",\"N\",\"C\",\"E\"]\n",
    "print(len(lst))\n",
    "print(lst[0],lst[10])\n",
    "lst2=lst[0:4]\n",
    "print(lst2)\n",
    "lst.pop(8)\n",
    "print(lst)\n",
    "lst.append(\"F\")\n",
    "print(lst)\n",
    "lst.insert(8,\"N\")\n",
    "print(lst)\n"
   ]
  },
  {
   "cell_type": "code",
   "execution_count": 27,
   "metadata": {},
   "outputs": [
    {
     "name": "stdout",
     "output_type": "stream",
     "text": [
      "dict_keys(['Christian', 'Daisy', 'Antonio', 'Dante'])\n",
      "dict_values([['America', 18], ['England', 12], ['Spain', 22], ['Italy', 25]])\n",
      "{'Christian': ['America', 18], 'Daisy': ['England', 13], 'Antonio': ['Spain', 22], 'Dante': ['Italy', 25]}\n",
      "{'Christian': ['America', 18], 'Daisy': ['England', 13], 'Antonio': ['Spain', 22], 'Dante': ['Italy', 25], 'Ahmet': ['Turkey', 24]}\n",
      "{'Christian': ['America', 18], 'Daisy': ['England', 13], 'Dante': ['Italy', 25], 'Ahmet': ['Turkey', 24]}\n"
     ]
    }
   ],
   "source": [
    "dict={'Christian':[\"America\",18],\n",
    "      'Daisy':[\"England\",12],\n",
    "      'Antonio':[\"Spain\",22],\n",
    "      'Dante':[\"Italy\",25]}\n",
    "\n",
    "print(dict.keys())\n",
    "print(dict.values())\n",
    "dict[\"Daisy\"][1]=13\n",
    "print(dict)\n",
    "dict.update({\"Ahmet\":[\"Turkey\",24]})\n",
    "print(dict)\n",
    "dict.pop(\"Antonio\")\n",
    "print(dict)"
   ]
  },
  {
   "cell_type": "code",
   "execution_count": 34,
   "metadata": {},
   "outputs": [
    {
     "name": "stdout",
     "output_type": "stream",
     "text": [
      "[2, 18, 22] [13, 93]\n"
     ]
    }
   ],
   "source": [
    "l=[2,13,18,93,22]\n",
    "\n",
    "def func(l):\n",
    "    even_list=[]\n",
    "    odd_list=[]\n",
    "    for i in l:\n",
    "        if i%2==0:\n",
    "            even_list.append(i)\n",
    "        else:\n",
    "            odd_list.append(i)\n",
    "    return even_list,odd_list\n",
    "even_list,odd_list=func(l)\n",
    "print(even_list,odd_list)\n"
   ]
  },
  {
   "cell_type": "code",
   "execution_count": 51,
   "metadata": {},
   "outputs": [
    {
     "name": "stdout",
     "output_type": "stream",
     "text": [
      "Mühendislik Fakültesi 1. öğrenci: Ali\n",
      "Mühendislik Fakültesi 2. öğrenci: Veli\n",
      "Mühendislik Fakültesi 3. öğrenci: Ayşe\n",
      "Tıp Fakültesi 1. öğrenci: Talat\n",
      "Tıp Fakültesi 2. öğrenci: Zeynep\n",
      "Tıp Fakültesi 3. öğrenci: Ece\n"
     ]
    }
   ],
   "source": [
    "ogrenciler=[\"Ali\",\"Veli\",\"Ayşe\",\"Talat\",\"Zeynep\",\"Ece\"]\n",
    "for i,ogrenci in enumerate(ogrenciler,1):\n",
    "    if i<4:\n",
    "        print(f\"Mühendislik Fakültesi {i}. öğrenci: {ogrenci}\")\n",
    "    else:\n",
    "        print(f\"Tıp Fakültesi {i-3}. öğrenci: {ogrenci}\")  \n",
    "  \n"
   ]
  },
  {
   "cell_type": "code",
   "execution_count": 65,
   "metadata": {},
   "outputs": [
    {
     "name": "stdout",
     "output_type": "stream",
     "text": [
      "Kredisi 3 olan CMP1005 kodlu dersin kontenjanı 30 kişidir.\n",
      "Kredisi 4 olan PSY1001 kodlu dersin kontenjanı 75 kişidir.\n",
      "Kredisi 2 olan HUK1005 kodlu dersin kontenjanı 150 kişidir.\n",
      "Kredisi 4 olan SEN2204 kodlu dersin kontenjanı 25 kişidir.\n"
     ]
    }
   ],
   "source": [
    "ders_kodu=[\"CMP1005\",\"PSY1001\",\"HUK1005\",\"SEN2204\"]\n",
    "kredi=[3,4,2,4]\n",
    "kontenjan=[30,75,150,25]\n",
    "lst=list(zip(ders_kodu,kredi,kontenjan))\n",
    "for i in lst:\n",
    "    print(f\"Kredisi {i[1]} olan {i[0]} kodlu dersin kontenjanı {i[2]} kişidir.\")\n",
    "\n"
   ]
  },
  {
   "cell_type": "code",
   "execution_count": 66,
   "metadata": {},
   "outputs": [
    {
     "data": {
      "text/plain": [
       "{'function', 'lambda', 'miuul', 'qcut'}"
      ]
     },
     "execution_count": 66,
     "metadata": {},
     "output_type": "execute_result"
    }
   ],
   "source": [
    "kume1=set([\"data\",\"python\"])\n",
    "kume2=set([\"data\",\"function\",\"qcut\",\"lambda\",\"python\",\"miuul\"])\n",
    "kume1.symmetric_difference(kume2)"
   ]
  },
  {
   "cell_type": "markdown",
   "metadata": {},
   "source": []
  },
  {
   "cell_type": "code",
   "execution_count": null,
   "metadata": {},
   "outputs": [],
   "source": []
  }
 ],
 "metadata": {
  "kernelspec": {
   "display_name": "Python 3",
   "language": "python",
   "name": "python3"
  },
  "language_info": {
   "codemirror_mode": {
    "name": "ipython",
    "version": 3
   },
   "file_extension": ".py",
   "mimetype": "text/x-python",
   "name": "python",
   "nbconvert_exporter": "python",
   "pygments_lexer": "ipython3",
   "version": "3.11.1"
  },
  "orig_nbformat": 4,
  "vscode": {
   "interpreter": {
    "hash": "aee8b7b246df8f9039afb4144a1f6fd8d2ca17a180786b69acc140d282b71a49"
   }
  }
 },
 "nbformat": 4,
 "nbformat_minor": 2
}
